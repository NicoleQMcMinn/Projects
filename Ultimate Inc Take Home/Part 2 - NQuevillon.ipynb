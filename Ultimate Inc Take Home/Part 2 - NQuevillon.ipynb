{
 "cells": [
  {
   "cell_type": "markdown",
   "metadata": {
    "id": "Z6l3g3soZmSJ"
   },
   "source": [
    "# **Ultimate Technologies Take Home Challenge**\n",
    "**Part 2 - Experiment and Metrics Design**"
   ]
  },
  {
   "cell_type": "markdown",
   "metadata": {
    "id": "05lT6wCFZ4mD"
   },
   "source": [
    "By: Nicole Quevillon\n",
    "\n",
    "February 2025"
   ]
  },
  {
   "cell_type": "markdown",
   "metadata": {
    "id": "CHLe6mJpZuhK"
   },
   "source": [
    "**Context:**\n",
    "\n",
    "The neighboring cities of Gotham and Metropolis have complementary circadian rhythms: on weekdays, Ultimate Gotham is most active at night, and Ultimate Metropolis is most active during the day. On weekends, there is reasonable activity in both cities.\n",
    "However, a toll bridge, with a two way toll, between the two cities causes driver partners to tend to be exclusive to each city. The Ultimate managers of city operations for the two cities have proposed an experiment to encourage driver partners to be available in both cities, by reimbursing all toll costs."
   ]
  },
  {
   "cell_type": "markdown",
   "metadata": {
    "id": "u-WhZNaraDwi"
   },
   "source": [
    "**Question 1**"
   ]
  },
  {
   "cell_type": "markdown",
   "metadata": {
    "id": "KOezqPUQaExB"
   },
   "source": [
    "**What would you choose as the key measure of success of this experiment in encouraging driver partners to serve both cities, and why would you choose this metric?**\n",
    "***"
   ]
  },
  {
   "cell_type": "markdown",
   "metadata": {
    "id": "29iu20VOa-jh"
   },
   "source": [
    "The stated goal of this project is to encourage driver partners to be avaialble in both cities. The metric that I would recommend to measure this would be the **percentage of drivers that served both cities**. An increase in this metric would indicate that driver partners are more encouraged to offer their services in both cities.\n",
    "\n",
    "I would use the % of drivers rather than the absolute number of drivers because converting the metric to a percent would neutralize any impact from a fluctuating driver base.\n",
    "\n",
    "How 'served both cities' is defined would require some stakeholder discussion. Is at least one instance in both cities considered enough, or would we want them to have a minimum split such as 90%/10%.\n",
    "***"
   ]
  },
  {
   "cell_type": "markdown",
   "metadata": {
    "id": "CPS-Dt52aUBR"
   },
   "source": [
    "**Question 2**"
   ]
  },
  {
   "cell_type": "markdown",
   "metadata": {
    "id": "HGYZ-ueHaWqk"
   },
   "source": [
    "**Describe a practical experiment you would design to compare the effectiveness of the proposed change in relation to the key measure of success. Please provide details on:**\n",
    "\n",
    "1.   **how you will implement the experiment**\n",
    "2.   **what statistical test(s) you will conduct to verify the significance of the observation**\n",
    "3.   **how you would interpret the results and provide recommendations to the city operations team along with any caveats.**\n",
    "***\n",
    "\n",
    "\n"
   ]
  },
  {
   "cell_type": "markdown",
   "metadata": {
    "id": "oBTT1uqvm7-X"
   },
   "source": [
    "An experiment that I would recommend to assess the effectiveness of reimbursing all toll costs in order to increase the driver partners offering their services in both cities would involve **splitting our active driver base in the two cities into an Experiment and Control group. The Experiment Group would have all toll costs reimbursed over the experiment's time frame. The Control group would expereince no change.**\n",
    "\n",
    "The driver base currently active in the two cities would be **randomly assigned** to one of the two groups. This would include drivers that are already servicing both cities because the new incentive could also prevent drivers from reverting to servicing only one city or the other.\n",
    "\n",
    "The size of the groups and the length of the experiment would depend on the current size of the driver base, what level of confidence we want in order to declare the experiment a success or failure, and how long we expect it to take for drivers to adjust their behaviour if they were goign to do so. These would be decided on during experiment design.\n",
    "\n",
    "**At the end of the experiemnt, we would compare the change in our success metric between the two groups.** Did our experiment group see a larger increase in the percent of partner drivers active in both cities? We would use the t-test (use if normally distributed, use Mann-Whitney U test if not) to compare the change in the percent of drivers. We want to be able to confidently reject the hypothesis that reimbursing toll fees does not influence driver partners to service both cities. **The result of this will tell us what degree of confidence we have that there is a difference in the behaviour of driver partners between the Experiment and Control groups.** If the p-value result is less than the confidence level established before the experiment, we can call the experiement a success.\n",
    "\n",
    "We would provide the City Operations team an opinion on whether offering toll reimburesements would drive the behaviour we are looking for in driver partners.\n",
    "\n",
    "**There are some caveats to this proposal:**\n",
    "\n",
    "*   We are proving that there is a difference between the two groups, not the actual percentage of drivers that we would expect to now offer services in both cities.\n",
    "*   The result would reflect the behaviour of drivers over the experiment time period. Long-term driver behaviour may be different from what we see in the initial experiment\n",
    "*   The experiemnt would be declared a success if we are confident in a positive change in behavioural change. It does not indicate the success of any other metrics such as financial.\n",
    "*   To be successful, **this experiment must be able to be run without the two groups knowing about each other.** If this isn't possible, we should design a different experiment. For example, if a driver in the control group knew there were other drivers getting toll reimbursements, they may be even less likely to offer services in both cities, hence impacting our final metric\n",
    "\n",
    "\n",
    "\n",
    "\n",
    "\n",
    "\n",
    "\n",
    "\n",
    "\n",
    "\n"
   ]
  },
  {
   "cell_type": "code",
   "execution_count": null,
   "metadata": {},
   "outputs": [],
   "source": []
  }
 ],
 "metadata": {
  "colab": {
   "provenance": []
  },
  "kernelspec": {
   "display_name": "Python 3 (ipykernel)",
   "language": "python",
   "name": "python3"
  },
  "language_info": {
   "codemirror_mode": {
    "name": "ipython",
    "version": 3
   },
   "file_extension": ".py",
   "mimetype": "text/x-python",
   "name": "python",
   "nbconvert_exporter": "python",
   "pygments_lexer": "ipython3",
   "version": "3.12.4"
  }
 },
 "nbformat": 4,
 "nbformat_minor": 4
}
