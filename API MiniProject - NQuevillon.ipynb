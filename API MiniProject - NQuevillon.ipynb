{
 "cells": [
  {
   "cell_type": "code",
   "execution_count": 51,
   "id": "4dadeadf-9d36-4b9a-86a8-1e4962282736",
   "metadata": {},
   "outputs": [],
   "source": [
    "# get api key from your .env file\n",
    "import os\n",
    "from dotenv import load_dotenv\n",
    "\n",
    "load_dotenv()\n",
    "API_KEY = os.getenv('NASDAQ_API_KEY')"
   ]
  },
  {
   "cell_type": "code",
   "execution_count": 39,
   "id": "b48aff27-de29-4f7d-862c-c1acc2384fcd",
   "metadata": {},
   "outputs": [],
   "source": [
    "#import modules\n",
    "import requests\n",
    "import json\n",
    "import pprint"
   ]
  },
  {
   "cell_type": "code",
   "execution_count": 41,
   "id": "eb3ead80-c1f3-49e0-b612-06feffed36c6",
   "metadata": {},
   "outputs": [],
   "source": [
    "#pull data sample from API for a single day\n",
    "url = f\"https://data.nasdaq.com/api/v3/datasets/FSE/AFX_X/data.json?start_date=2017-01-01&end_date=2017-01-02&api_key={API_KEY}\"\n",
    "\n",
    "r = requests.get(url)\n",
    "json_sample = r.json()"
   ]
  },
  {
   "cell_type": "code",
   "execution_count": 53,
   "id": "295aed03-87af-48db-ab02-b8ae3e74a72c",
   "metadata": {},
   "outputs": [
    {
     "name": "stdout",
     "output_type": "stream",
     "text": [
      "dataset_data\n"
     ]
    }
   ],
   "source": [
    "for k in json_sample.keys():\n",
    "    print(k)"
   ]
  },
  {
   "cell_type": "code",
   "execution_count": 61,
   "id": "3bce5085-7d7d-42e7-9d5b-f7bc3bd90f65",
   "metadata": {},
   "outputs": [
    {
     "name": "stdout",
     "output_type": "stream",
     "text": [
      "limit\n",
      "transform\n",
      "column_index\n",
      "column_names\n",
      "start_date\n",
      "end_date\n",
      "frequency\n",
      "data\n",
      "collapse\n",
      "order\n"
     ]
    }
   ],
   "source": [
    "for k in json_sample['dataset_data'].keys():\n",
    "    print(k)"
   ]
  },
  {
   "cell_type": "code",
   "execution_count": 55,
   "id": "c8c457ff-edac-4880-a9e1-417cf76a66f6",
   "metadata": {},
   "outputs": [
    {
     "name": "stdout",
     "output_type": "stream",
     "text": [
      "{\n",
      "    \"dataset_data\": {\n",
      "        \"limit\": null,\n",
      "        \"transform\": null,\n",
      "        \"column_index\": null,\n",
      "        \"column_names\": [\n",
      "            \"Date\",\n",
      "            \"Open\",\n",
      "            \"High\",\n",
      "            \"Low\",\n",
      "            \"Close\",\n",
      "            \"Change\",\n",
      "            \"Traded Volume\",\n",
      "            \"Turnover\",\n",
      "            \"Last Price of the Day\",\n",
      "            \"Daily Traded Units\",\n",
      "            \"Daily Turnover\"\n",
      "        ],\n",
      "        \"start_date\": \"2017-01-01\",\n",
      "        \"end_date\": \"2017-01-02\",\n",
      "        \"frequency\": \"daily\",\n",
      "        \"data\": [\n",
      "            [\n",
      "                \"2017-01-02\",\n",
      "                34.99,\n",
      "                35.94,\n",
      "                34.99,\n",
      "                35.8,\n",
      "                null,\n",
      "                44700.0,\n",
      "                1590561.0,\n",
      "                null,\n",
      "                null,\n",
      "                null\n",
      "            ]\n",
      "        ],\n",
      "        \"collapse\": null,\n",
      "        \"order\": null\n",
      "    }\n",
      "}\n"
     ]
    }
   ],
   "source": [
    "#view sample data\n",
    "print(json.dumps(json_sample, indent=4, sort_keys=False))"
   ]
  },
  {
   "cell_type": "code",
   "execution_count": 49,
   "id": "b2ca96fe-6f82-4bc8-a669-4d5ce1593ae1",
   "metadata": {},
   "outputs": [],
   "source": [
    "#TASK 1: Collect data from the Franfurt Stock Exchange, for the ticker AFX_X, for the whole year 2017\n",
    "url = f\"https://data.nasdaq.com/api/v3/datasets/FSE/AFX_X/data.json?start_date=2017-01-01&end_date=2017-12-31&api_key={API_KEY}\"\n",
    "r2017 = requests.get(url)"
   ]
  },
  {
   "cell_type": "code",
   "execution_count": null,
   "id": "c3f08b0c-7d22-460f-94c1-6fa9adb6c764",
   "metadata": {},
   "outputs": [],
   "source": [
    "#TASK 2: Convert the returned JSON object into a Python dictionary.\n",
    "json_2017 = r2017.json()"
   ]
  },
  {
   "cell_type": "code",
   "execution_count": 80,
   "id": "34562e4b-ba4c-4a1d-ad31-238625c480d0",
   "metadata": {},
   "outputs": [],
   "source": [
    "#TASK 3: Calculate what the highest and lowest opening prices were for the stock in this period.\n",
    "# Extract data\n",
    "dataset_data = json_2017['dataset_data']\n",
    "data_entries = dataset_data['data']\n",
    "column_names = dataset_data['column_names']\n",
    "\n",
    "# Create a new dictionary with Date and Open\n",
    "result = {}\n",
    "for entry in data_entries:\n",
    "    date = entry[column_names.index('Date')]\n",
    "    open_price = entry[column_names.index('Open')]\n",
    "    result[date] = open_price"
   ]
  },
  {
   "cell_type": "code",
   "execution_count": 94,
   "id": "2012e670-3948-4d95-8489-dc8d555c41b4",
   "metadata": {},
   "outputs": [],
   "source": [
    "#Removing none values\n",
    "filtered_result = {date: value for date, value in result.items() if value is not None}"
   ]
  },
  {
   "cell_type": "code",
   "execution_count": 96,
   "id": "ab713ab3-7d9c-4ea0-a30f-2411ade3c205",
   "metadata": {},
   "outputs": [
    {
     "name": "stdout",
     "output_type": "stream",
     "text": [
      "['2017-01-24']\n",
      "['2017-12-14']\n"
     ]
    }
   ],
   "source": [
    "#Find the min & max\n",
    "min_open = min(filtered_result.values())\n",
    "max_open = max(filtered_result.values())\n",
    "\n",
    "min_date = [d for d,v in filtered_result.items() if v==min_open]\n",
    "max_date = [d for d,v in filtered_result.items() if v==max_open]\n",
    "\n",
    "print(min_date)\n",
    "print(max_date)"
   ]
  },
  {
   "cell_type": "code",
   "execution_count": 102,
   "id": "ec6bfaf9-9dbe-4237-80b3-6f8eb5d5a122",
   "metadata": {},
   "outputs": [],
   "source": [
    "#TASK 4: What was the largest change in any one day (based on High and Low price)?\n",
    "result4 = {}\n",
    "for entry in data_entries:\n",
    "    date = entry[column_names.index('Date')]\n",
    "    price_change = entry[column_names.index('High')] - entry[column_names.index('Low')]\n",
    "    result4[date] = price_change"
   ]
  },
  {
   "cell_type": "code",
   "execution_count": 106,
   "id": "69dc2113-41f1-461e-a643-83747ea9622e",
   "metadata": {},
   "outputs": [
    {
     "name": "stdout",
     "output_type": "stream",
     "text": [
      "2.8100000000000023\n"
     ]
    }
   ],
   "source": [
    "#Find the max change\n",
    "max_change = max(result4.values())\n",
    "print(max_change)"
   ]
  },
  {
   "cell_type": "code",
   "execution_count": 108,
   "id": "25daf576-a0b6-4a7e-8c44-fe8b93eef348",
   "metadata": {},
   "outputs": [
    {
     "name": "stdout",
     "output_type": "stream",
     "text": [
      "2.559999999999995\n",
      "('2017-08-09', '2017-08-08')\n"
     ]
    }
   ],
   "source": [
    "#TASK 5: What was the largest change between any two days (based on Closing Price)?\n",
    "dates = [entry[column_names.index('Date')] for entry in data_entries]\n",
    "closing_prices = [entry[column_names.index('Close')] for entry in data_entries]\n",
    "\n",
    "# Initialize variables to track the largest change\n",
    "max_change = None\n",
    "max_change_dates = (None, None)\n",
    "\n",
    "# Iterate over consecutive days to find the largest change\n",
    "for i in range(len(closing_prices) - 1):\n",
    "    current_close = closing_prices[i]\n",
    "    next_close = closing_prices[i + 1]\n",
    "    \n",
    "    if current_close is not None and next_close is not None:\n",
    "        change = abs(next_close - current_close)\n",
    "        \n",
    "        if max_change is None or change > max_change:\n",
    "            max_change = change\n",
    "            max_change_dates = (dates[i], dates[i + 1])\n",
    "\n",
    "print(max_change)\n",
    "print(max_change_dates)"
   ]
  },
  {
   "cell_type": "code",
   "execution_count": 114,
   "id": "6c7bc330-3cee-4b2f-9fd9-1e762f08ea48",
   "metadata": {},
   "outputs": [
    {
     "name": "stdout",
     "output_type": "stream",
     "text": [
      "89124.33725490196\n"
     ]
    }
   ],
   "source": [
    "#TASK 6: What was the average daily trading volume during this year?\n",
    "traded_volume = [entry[column_names.index('Traded Volume')] for entry in data_entries]\n",
    "\n",
    "avg_volume = sum(traded_volume) / len(traded_volume)\n",
    "\n",
    "print(avg_volume)"
   ]
  },
  {
   "cell_type": "code",
   "execution_count": 128,
   "id": "f2b9d472-d8f4-455c-91d5-3e5607a264b4",
   "metadata": {},
   "outputs": [],
   "source": [
    "#TASK 7: What was the median trading volume during this year.\n",
    "filtered_volume = [x for x in traded_volume if x is not None]\n",
    "ordered_volume = sorted(filtered_volume)"
   ]
  },
  {
   "cell_type": "code",
   "execution_count": 142,
   "id": "f53d2732-9fb5-43fd-8841-156d5527ef72",
   "metadata": {},
   "outputs": [
    {
     "name": "stdout",
     "output_type": "stream",
     "text": [
      "127\n"
     ]
    }
   ],
   "source": [
    "median_index = int(len(ordered_volume)/2)\n",
    "print(median_index)"
   ]
  },
  {
   "cell_type": "code",
   "execution_count": 144,
   "id": "462a3751-88e2-458d-8020-bb1c11f2c067",
   "metadata": {},
   "outputs": [
    {
     "name": "stdout",
     "output_type": "stream",
     "text": [
      "76286.0\n"
     ]
    }
   ],
   "source": [
    "print(ordered_volume[median_index])"
   ]
  },
  {
   "cell_type": "code",
   "execution_count": null,
   "id": "779286ff-a961-4955-a232-a312fc6b96bb",
   "metadata": {},
   "outputs": [],
   "source": []
  }
 ],
 "metadata": {
  "kernelspec": {
   "display_name": "Python 3 (ipykernel)",
   "language": "python",
   "name": "python3"
  },
  "language_info": {
   "codemirror_mode": {
    "name": "ipython",
    "version": 3
   },
   "file_extension": ".py",
   "mimetype": "text/x-python",
   "name": "python",
   "nbconvert_exporter": "python",
   "pygments_lexer": "ipython3",
   "version": "3.12.4"
  }
 },
 "nbformat": 4,
 "nbformat_minor": 5
}
