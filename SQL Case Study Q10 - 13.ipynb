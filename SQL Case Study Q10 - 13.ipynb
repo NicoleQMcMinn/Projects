{
 "cells": [
  {
   "cell_type": "code",
   "execution_count": 15,
   "id": "74e7d426-10e4-4937-b251-7fb33465243b",
   "metadata": {},
   "outputs": [],
   "source": [
    "import pandas as pd\n",
    "import sqlite3"
   ]
  },
  {
   "cell_type": "code",
   "execution_count": 33,
   "id": "06d27caa-d707-44c6-8b20-7e6a9d1b98f9",
   "metadata": {},
   "outputs": [],
   "source": [
    "engine = sqlite3.connect('country_club.sql')"
   ]
  },
  {
   "cell_type": "code",
   "execution_count": 35,
   "id": "38fcf7b6-65e1-46a2-912b-d3d4c11f5388",
   "metadata": {},
   "outputs": [
    {
     "ename": "DatabaseError",
     "evalue": "Execution failed on sql 'WITH rev AS (\nSELECT\n\tf. facid,\n\t(SUM(CASE WHEN b.memid = 0 THEN b.slots ELSE 0 END) * f.guestcost) AS guest_rev,\n\t(SUM(CASE WHEN b.memid <> 0 THEN b.slots ELSE 0 END) * f.membercost) AS mem_rev,\n\t(SUM(CASE WHEN b.memid = 0 THEN b.slots ELSE 0 END) * f.guestcost) + (SUM(CASE WHEN b.memid <> 0 THEN b.slots ELSE 0 END) * f.membercost) AS total_rev\nFROM Facilities AS f\nLEFT JOIN Bookings AS b\nON f.facid = b.facid\nGROUP BY f.facid\n)\n\nSELECT\n\tfacid,\n\ttotal_rev\nFROM rev\nWHERE total_rev < 1000\nORDER BY total_rev;': no such table: Facilities",
     "output_type": "error",
     "traceback": [
      "\u001b[1;31m---------------------------------------------------------------------------\u001b[0m",
      "\u001b[1;31mOperationalError\u001b[0m                          Traceback (most recent call last)",
      "File \u001b[1;32m~\\anaconda3\\Lib\\site-packages\\pandas\\io\\sql.py:2674\u001b[0m, in \u001b[0;36mSQLiteDatabase.execute\u001b[1;34m(self, sql, params)\u001b[0m\n\u001b[0;32m   2673\u001b[0m \u001b[38;5;28;01mtry\u001b[39;00m:\n\u001b[1;32m-> 2674\u001b[0m     cur\u001b[38;5;241m.\u001b[39mexecute(sql, \u001b[38;5;241m*\u001b[39margs)\n\u001b[0;32m   2675\u001b[0m     \u001b[38;5;28;01mreturn\u001b[39;00m cur\n",
      "\u001b[1;31mOperationalError\u001b[0m: no such table: Facilities",
      "\nThe above exception was the direct cause of the following exception:\n",
      "\u001b[1;31mDatabaseError\u001b[0m                             Traceback (most recent call last)",
      "Cell \u001b[1;32mIn[35], line 1\u001b[0m\n\u001b[1;32m----> 1\u001b[0m df \u001b[38;5;241m=\u001b[39m pd\u001b[38;5;241m.\u001b[39mread_sql_query(\u001b[38;5;124m\"\"\"\u001b[39m\u001b[38;5;124mWITH rev AS (\u001b[39m\n\u001b[0;32m      2\u001b[0m \u001b[38;5;124mSELECT\u001b[39m\n\u001b[0;32m      3\u001b[0m \u001b[38;5;124m\tf. facid,\u001b[39m\n\u001b[0;32m      4\u001b[0m \u001b[38;5;124m\t(SUM(CASE WHEN b.memid = 0 THEN b.slots ELSE 0 END) * f.guestcost) AS guest_rev,\u001b[39m\n\u001b[0;32m      5\u001b[0m \u001b[38;5;124m\t(SUM(CASE WHEN b.memid <> 0 THEN b.slots ELSE 0 END) * f.membercost) AS mem_rev,\u001b[39m\n\u001b[0;32m      6\u001b[0m \u001b[38;5;124m\t(SUM(CASE WHEN b.memid = 0 THEN b.slots ELSE 0 END) * f.guestcost) + (SUM(CASE WHEN b.memid <> 0 THEN b.slots ELSE 0 END) * f.membercost) AS total_rev\u001b[39m\n\u001b[0;32m      7\u001b[0m \u001b[38;5;124mFROM Facilities AS f\u001b[39m\n\u001b[0;32m      8\u001b[0m \u001b[38;5;124mLEFT JOIN Bookings AS b\u001b[39m\n\u001b[0;32m      9\u001b[0m \u001b[38;5;124mON f.facid = b.facid\u001b[39m\n\u001b[0;32m     10\u001b[0m \u001b[38;5;124mGROUP BY f.facid\u001b[39m\n\u001b[0;32m     11\u001b[0m \u001b[38;5;124m)\u001b[39m\n\u001b[0;32m     12\u001b[0m \n\u001b[0;32m     13\u001b[0m \u001b[38;5;124mSELECT\u001b[39m\n\u001b[0;32m     14\u001b[0m \u001b[38;5;124m\tfacid,\u001b[39m\n\u001b[0;32m     15\u001b[0m \u001b[38;5;124m\ttotal_rev\u001b[39m\n\u001b[0;32m     16\u001b[0m \u001b[38;5;124mFROM rev\u001b[39m\n\u001b[0;32m     17\u001b[0m \u001b[38;5;124mWHERE total_rev < 1000\u001b[39m\n\u001b[0;32m     18\u001b[0m \u001b[38;5;124mORDER BY total_rev;\u001b[39m\u001b[38;5;124m\"\"\"\u001b[39m, engine)\n",
      "File \u001b[1;32m~\\anaconda3\\Lib\\site-packages\\pandas\\io\\sql.py:526\u001b[0m, in \u001b[0;36mread_sql_query\u001b[1;34m(sql, con, index_col, coerce_float, params, parse_dates, chunksize, dtype, dtype_backend)\u001b[0m\n\u001b[0;32m    523\u001b[0m \u001b[38;5;28;01massert\u001b[39;00m dtype_backend \u001b[38;5;129;01mis\u001b[39;00m \u001b[38;5;129;01mnot\u001b[39;00m lib\u001b[38;5;241m.\u001b[39mno_default\n\u001b[0;32m    525\u001b[0m \u001b[38;5;28;01mwith\u001b[39;00m pandasSQL_builder(con) \u001b[38;5;28;01mas\u001b[39;00m pandas_sql:\n\u001b[1;32m--> 526\u001b[0m     \u001b[38;5;28;01mreturn\u001b[39;00m pandas_sql\u001b[38;5;241m.\u001b[39mread_query(\n\u001b[0;32m    527\u001b[0m         sql,\n\u001b[0;32m    528\u001b[0m         index_col\u001b[38;5;241m=\u001b[39mindex_col,\n\u001b[0;32m    529\u001b[0m         params\u001b[38;5;241m=\u001b[39mparams,\n\u001b[0;32m    530\u001b[0m         coerce_float\u001b[38;5;241m=\u001b[39mcoerce_float,\n\u001b[0;32m    531\u001b[0m         parse_dates\u001b[38;5;241m=\u001b[39mparse_dates,\n\u001b[0;32m    532\u001b[0m         chunksize\u001b[38;5;241m=\u001b[39mchunksize,\n\u001b[0;32m    533\u001b[0m         dtype\u001b[38;5;241m=\u001b[39mdtype,\n\u001b[0;32m    534\u001b[0m         dtype_backend\u001b[38;5;241m=\u001b[39mdtype_backend,\n\u001b[0;32m    535\u001b[0m     )\n",
      "File \u001b[1;32m~\\anaconda3\\Lib\\site-packages\\pandas\\io\\sql.py:2738\u001b[0m, in \u001b[0;36mSQLiteDatabase.read_query\u001b[1;34m(self, sql, index_col, coerce_float, parse_dates, params, chunksize, dtype, dtype_backend)\u001b[0m\n\u001b[0;32m   2727\u001b[0m \u001b[38;5;28;01mdef\u001b[39;00m \u001b[38;5;21mread_query\u001b[39m(\n\u001b[0;32m   2728\u001b[0m     \u001b[38;5;28mself\u001b[39m,\n\u001b[0;32m   2729\u001b[0m     sql,\n\u001b[1;32m   (...)\u001b[0m\n\u001b[0;32m   2736\u001b[0m     dtype_backend: DtypeBackend \u001b[38;5;241m|\u001b[39m Literal[\u001b[38;5;124m\"\u001b[39m\u001b[38;5;124mnumpy\u001b[39m\u001b[38;5;124m\"\u001b[39m] \u001b[38;5;241m=\u001b[39m \u001b[38;5;124m\"\u001b[39m\u001b[38;5;124mnumpy\u001b[39m\u001b[38;5;124m\"\u001b[39m,\n\u001b[0;32m   2737\u001b[0m ) \u001b[38;5;241m-\u001b[39m\u001b[38;5;241m>\u001b[39m DataFrame \u001b[38;5;241m|\u001b[39m Iterator[DataFrame]:\n\u001b[1;32m-> 2738\u001b[0m     cursor \u001b[38;5;241m=\u001b[39m \u001b[38;5;28mself\u001b[39m\u001b[38;5;241m.\u001b[39mexecute(sql, params)\n\u001b[0;32m   2739\u001b[0m     columns \u001b[38;5;241m=\u001b[39m [col_desc[\u001b[38;5;241m0\u001b[39m] \u001b[38;5;28;01mfor\u001b[39;00m col_desc \u001b[38;5;129;01min\u001b[39;00m cursor\u001b[38;5;241m.\u001b[39mdescription]\n\u001b[0;32m   2741\u001b[0m     \u001b[38;5;28;01mif\u001b[39;00m chunksize \u001b[38;5;129;01mis\u001b[39;00m \u001b[38;5;129;01mnot\u001b[39;00m \u001b[38;5;28;01mNone\u001b[39;00m:\n",
      "File \u001b[1;32m~\\anaconda3\\Lib\\site-packages\\pandas\\io\\sql.py:2686\u001b[0m, in \u001b[0;36mSQLiteDatabase.execute\u001b[1;34m(self, sql, params)\u001b[0m\n\u001b[0;32m   2683\u001b[0m     \u001b[38;5;28;01mraise\u001b[39;00m ex \u001b[38;5;28;01mfrom\u001b[39;00m \u001b[38;5;21;01minner_exc\u001b[39;00m\n\u001b[0;32m   2685\u001b[0m ex \u001b[38;5;241m=\u001b[39m DatabaseError(\u001b[38;5;124mf\u001b[39m\u001b[38;5;124m\"\u001b[39m\u001b[38;5;124mExecution failed on sql \u001b[39m\u001b[38;5;124m'\u001b[39m\u001b[38;5;132;01m{\u001b[39;00msql\u001b[38;5;132;01m}\u001b[39;00m\u001b[38;5;124m'\u001b[39m\u001b[38;5;124m: \u001b[39m\u001b[38;5;132;01m{\u001b[39;00mexc\u001b[38;5;132;01m}\u001b[39;00m\u001b[38;5;124m\"\u001b[39m)\n\u001b[1;32m-> 2686\u001b[0m \u001b[38;5;28;01mraise\u001b[39;00m ex \u001b[38;5;28;01mfrom\u001b[39;00m \u001b[38;5;21;01mexc\u001b[39;00m\n",
      "\u001b[1;31mDatabaseError\u001b[0m: Execution failed on sql 'WITH rev AS (\nSELECT\n\tf. facid,\n\t(SUM(CASE WHEN b.memid = 0 THEN b.slots ELSE 0 END) * f.guestcost) AS guest_rev,\n\t(SUM(CASE WHEN b.memid <> 0 THEN b.slots ELSE 0 END) * f.membercost) AS mem_rev,\n\t(SUM(CASE WHEN b.memid = 0 THEN b.slots ELSE 0 END) * f.guestcost) + (SUM(CASE WHEN b.memid <> 0 THEN b.slots ELSE 0 END) * f.membercost) AS total_rev\nFROM Facilities AS f\nLEFT JOIN Bookings AS b\nON f.facid = b.facid\nGROUP BY f.facid\n)\n\nSELECT\n\tfacid,\n\ttotal_rev\nFROM rev\nWHERE total_rev < 1000\nORDER BY total_rev;': no such table: Facilities"
     ]
    }
   ],
   "source": [
    "df = pd.read_sql_query(\"\"\"WITH rev AS (\n",
    "SELECT\n",
    "\tf. facid,\n",
    "\t(SUM(CASE WHEN b.memid = 0 THEN b.slots ELSE 0 END) * f.guestcost) AS guest_rev,\n",
    "\t(SUM(CASE WHEN b.memid <> 0 THEN b.slots ELSE 0 END) * f.membercost) AS mem_rev,\n",
    "\t(SUM(CASE WHEN b.memid = 0 THEN b.slots ELSE 0 END) * f.guestcost) + (SUM(CASE WHEN b.memid <> 0 THEN b.slots ELSE 0 END) * f.membercost) AS total_rev\n",
    "FROM Facilities AS f\n",
    "LEFT JOIN Bookings AS b\n",
    "ON f.facid = b.facid\n",
    "GROUP BY f.facid\n",
    ")\n",
    "\n",
    "SELECT\n",
    "\tfacid,\n",
    "\ttotal_rev\n",
    "FROM rev\n",
    "WHERE total_rev < 1000\n",
    "ORDER BY total_rev;\"\"\", engine)"
   ]
  },
  {
   "cell_type": "code",
   "execution_count": null,
   "id": "0886d8f2-dfab-44b2-83df-eaf661ec19ce",
   "metadata": {},
   "outputs": [],
   "source": []
  }
 ],
 "metadata": {
  "kernelspec": {
   "display_name": "Python 3 (ipykernel)",
   "language": "python",
   "name": "python3"
  },
  "language_info": {
   "codemirror_mode": {
    "name": "ipython",
    "version": 3
   },
   "file_extension": ".py",
   "mimetype": "text/x-python",
   "name": "python",
   "nbconvert_exporter": "python",
   "pygments_lexer": "ipython3",
   "version": "3.12.4"
  }
 },
 "nbformat": 4,
 "nbformat_minor": 5
}
